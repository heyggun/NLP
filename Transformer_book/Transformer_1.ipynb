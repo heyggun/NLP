{
 "cells": [
  {
   "cell_type": "markdown",
   "id": "5728f8fd",
   "metadata": {},
   "source": [
    "# 트랜스포머를 활용한 자연어처리\n",
    "\n",
    "### 1장 트랜스포머 소개"
   ]
  },
  {
   "cell_type": "code",
   "execution_count": 2,
   "id": "31cbe9cc",
   "metadata": {},
   "outputs": [
    {
     "name": "stderr",
     "output_type": "stream",
     "text": [
      "No model was supplied, defaulted to distilbert-base-uncased-finetuned-sst-2-english and revision af0f99b (https://huggingface.co/distilbert-base-uncased-finetuned-sst-2-english).\n",
      "Using a pipeline without specifying a model name and revision in production is not recommended.\n"
     ]
    },
    {
     "data": {
      "application/vnd.jupyter.widget-view+json": {
       "model_id": "b050716ff1d0466f91775fe26edd997f",
       "version_major": 2,
       "version_minor": 0
      },
      "text/plain": [
       "Downloading:   0%|          | 0.00/629 [00:00<?, ?B/s]"
      ]
     },
     "metadata": {},
     "output_type": "display_data"
    },
    {
     "data": {
      "application/vnd.jupyter.widget-view+json": {
       "model_id": "0c2e02c9f78240cc9ca6f4fb4698fa97",
       "version_major": 2,
       "version_minor": 0
      },
      "text/plain": [
       "Downloading:   0%|          | 0.00/268M [00:00<?, ?B/s]"
      ]
     },
     "metadata": {},
     "output_type": "display_data"
    },
    {
     "data": {
      "application/vnd.jupyter.widget-view+json": {
       "model_id": "ecba665df2c24576ae95e5ebc5bb8d82",
       "version_major": 2,
       "version_minor": 0
      },
      "text/plain": [
       "Downloading:   0%|          | 0.00/48.0 [00:00<?, ?B/s]"
      ]
     },
     "metadata": {},
     "output_type": "display_data"
    },
    {
     "data": {
      "application/vnd.jupyter.widget-view+json": {
       "model_id": "7c1fe911a49f418ca2ed0ad640cd3f11",
       "version_major": 2,
       "version_minor": 0
      },
      "text/plain": [
       "Downloading:   0%|          | 0.00/232k [00:00<?, ?B/s]"
      ]
     },
     "metadata": {},
     "output_type": "display_data"
    }
   ],
   "source": [
    "from transformers import pipeline\n",
    "\n",
    "classifier = pipeline('text-classification')"
   ]
  },
  {
   "cell_type": "markdown",
   "id": "cb18d299",
   "metadata": {},
   "source": [
    "    - 파이프라인이 자동으로 허깅페이스 허브에서 모델 가중치를 다운로드 함\n",
    "    - 파이프라인 객체를 다시 만들 때는 가중치가 이미 다운로드되서, 캐싱된 버전을 사용한다는 메시지가 나옴\n",
    "    - 기본적으로 text-classification 파이프라인은 감성 분석을 위해 설계된 모델을 사용하지만,\n",
    "    다중 분류(multiclass classfication)과 다중 레이블 분류(multilabel classification)도 지원"
   ]
  },
  {
   "cell_type": "code",
   "execution_count": 18,
   "id": "92b0c0a4",
   "metadata": {},
   "outputs": [],
   "source": [
    "import pandas as pd\n",
    "\n",
    "text= '''Dera Amazon, last weeek I ordered on Optimus Prime action figure from your online store in Germany.\n",
    "Unfortunately, when I opened the package, I deiscovered to my horror that I had been sent an action figure of Megatron insted!\n",
    "As a lifelong enemy of trhe Decepticons, I hope you can understand my dilemma.'''"
   ]
  },
  {
   "cell_type": "code",
   "execution_count": 19,
   "id": "ae0ee8bd",
   "metadata": {},
   "outputs": [
    {
     "data": {
      "text/html": [
       "<div>\n",
       "<style scoped>\n",
       "    .dataframe tbody tr th:only-of-type {\n",
       "        vertical-align: middle;\n",
       "    }\n",
       "\n",
       "    .dataframe tbody tr th {\n",
       "        vertical-align: top;\n",
       "    }\n",
       "\n",
       "    .dataframe thead th {\n",
       "        text-align: right;\n",
       "    }\n",
       "</style>\n",
       "<table border=\"1\" class=\"dataframe\">\n",
       "  <thead>\n",
       "    <tr style=\"text-align: right;\">\n",
       "      <th></th>\n",
       "      <th>label</th>\n",
       "      <th>score</th>\n",
       "    </tr>\n",
       "  </thead>\n",
       "  <tbody>\n",
       "    <tr>\n",
       "      <th>0</th>\n",
       "      <td>NEGATIVE</td>\n",
       "      <td>0.996499</td>\n",
       "    </tr>\n",
       "  </tbody>\n",
       "</table>\n",
       "</div>"
      ],
      "text/plain": [
       "      label     score\n",
       "0  NEGATIVE  0.996499"
      ]
     },
     "execution_count": 19,
     "metadata": {},
     "output_type": "execute_result"
    }
   ],
   "source": [
    "outputs = classifier(text)\n",
    "pd.DataFrame(outputs)"
   ]
  },
  {
   "cell_type": "markdown",
   "id": "159be82a",
   "metadata": {},
   "source": [
    "    - 텍스트가 부정적이라고 확신함\n",
    "    - 감성 분석 작업에서 파이프라인은 positive, negative 레이블 중 하나 반환"
   ]
  },
  {
   "cell_type": "markdown",
   "id": "6be83234",
   "metadata": {},
   "source": [
    "**`개체명 인식`**\n",
    "\n",
    "    - 고객 피드백의 감성을 예측하는 일이 분석의 좋은 출발점이지만,\n",
    "    피드백이 특정 제품과 서비스 중 무엇에 대한 건지 알고 싶을 때가 많음.\n",
    "    - NLP에서는 제품, 장소, 사람 같은 실제 객체를 '개체명(named entity)'라고 하고,\n",
    "    이러한 개체명을 텍스트에서 추출하는 작업을 '개체명 인식(Named Entity Recognition)'이라 함"
   ]
  },
  {
   "cell_type": "code",
   "execution_count": 20,
   "id": "106535fc",
   "metadata": {},
   "outputs": [
    {
     "name": "stderr",
     "output_type": "stream",
     "text": [
      "No model was supplied, defaulted to dbmdz/bert-large-cased-finetuned-conll03-english and revision f2482bf (https://huggingface.co/dbmdz/bert-large-cased-finetuned-conll03-english).\n",
      "Using a pipeline without specifying a model name and revision in production is not recommended.\n"
     ]
    },
    {
     "data": {
      "text/html": [
       "<div>\n",
       "<style scoped>\n",
       "    .dataframe tbody tr th:only-of-type {\n",
       "        vertical-align: middle;\n",
       "    }\n",
       "\n",
       "    .dataframe tbody tr th {\n",
       "        vertical-align: top;\n",
       "    }\n",
       "\n",
       "    .dataframe thead th {\n",
       "        text-align: right;\n",
       "    }\n",
       "</style>\n",
       "<table border=\"1\" class=\"dataframe\">\n",
       "  <thead>\n",
       "    <tr style=\"text-align: right;\">\n",
       "      <th></th>\n",
       "      <th>entity_group</th>\n",
       "      <th>score</th>\n",
       "      <th>word</th>\n",
       "      <th>start</th>\n",
       "      <th>end</th>\n",
       "    </tr>\n",
       "  </thead>\n",
       "  <tbody>\n",
       "    <tr>\n",
       "      <th>0</th>\n",
       "      <td>LOC</td>\n",
       "      <td>0.377747</td>\n",
       "      <td>Der</td>\n",
       "      <td>0</td>\n",
       "      <td>3</td>\n",
       "    </tr>\n",
       "    <tr>\n",
       "      <th>1</th>\n",
       "      <td>ORG</td>\n",
       "      <td>0.432344</td>\n",
       "      <td>Amazon</td>\n",
       "      <td>5</td>\n",
       "      <td>11</td>\n",
       "    </tr>\n",
       "    <tr>\n",
       "      <th>2</th>\n",
       "      <td>MISC</td>\n",
       "      <td>0.985208</td>\n",
       "      <td>Optimus Prime</td>\n",
       "      <td>37</td>\n",
       "      <td>50</td>\n",
       "    </tr>\n",
       "    <tr>\n",
       "      <th>3</th>\n",
       "      <td>LOC</td>\n",
       "      <td>0.999717</td>\n",
       "      <td>Germany</td>\n",
       "      <td>91</td>\n",
       "      <td>98</td>\n",
       "    </tr>\n",
       "    <tr>\n",
       "      <th>4</th>\n",
       "      <td>PER</td>\n",
       "      <td>0.593265</td>\n",
       "      <td>Megatron</td>\n",
       "      <td>210</td>\n",
       "      <td>218</td>\n",
       "    </tr>\n",
       "    <tr>\n",
       "      <th>5</th>\n",
       "      <td>MISC</td>\n",
       "      <td>0.750991</td>\n",
       "      <td>Deceptico</td>\n",
       "      <td>255</td>\n",
       "      <td>264</td>\n",
       "    </tr>\n",
       "  </tbody>\n",
       "</table>\n",
       "</div>"
      ],
      "text/plain": [
       "  entity_group     score           word  start  end\n",
       "0          LOC  0.377747            Der      0    3\n",
       "1          ORG  0.432344         Amazon      5   11\n",
       "2         MISC  0.985208  Optimus Prime     37   50\n",
       "3          LOC  0.999717        Germany     91   98\n",
       "4          PER  0.593265       Megatron    210  218\n",
       "5         MISC  0.750991      Deceptico    255  264"
      ]
     },
     "execution_count": 20,
     "metadata": {},
     "output_type": "execute_result"
    }
   ],
   "source": [
    "ner_tagger = pipeline('ner', aggregation_strategy='simple')\n",
    "outputs = ner_tagger(text)\n",
    "pd.DataFrame(outputs)"
   ]
  },
  {
   "cell_type": "markdown",
   "id": "1d9db12c",
   "metadata": {},
   "source": [
    "    - 개체명을 감지하고 ORG(조직), LOC(위치) 같은 카테고리에 할당함\n",
    "    - 모델 예측에 따라 단어를 그룹하기 하고자 한다면 AGGREGATION_STRATEGY 매개변수 사용\n",
    "        => 예를 들어 개체명 'Optimus Prime'은 두 단어로 구성되지만 한아ㅢ 카테고리 MISC에 할당됨\n",
    "    - 점수는 모델이 개체명을 얼마나 확신하는지 나타냄\n",
    "    "
   ]
  },
  {
   "cell_type": "markdown",
   "id": "e55705c0",
   "metadata": {},
   "source": [
    "**`질문 답변(Question answering)`**"
   ]
  },
  {
   "cell_type": "markdown",
   "id": "29815470",
   "metadata": {},
   "source": [
    "    - 텍스트 구절과 함께 얻고 싶은 질문을 모델에 전달, 모델이 답변 텍스트 반환"
   ]
  },
  {
   "cell_type": "code",
   "execution_count": 21,
   "id": "08be1654",
   "metadata": {},
   "outputs": [
    {
     "name": "stderr",
     "output_type": "stream",
     "text": [
      "No model was supplied, defaulted to distilbert-base-cased-distilled-squad and revision 626af31 (https://huggingface.co/distilbert-base-cased-distilled-squad).\n",
      "Using a pipeline without specifying a model name and revision in production is not recommended.\n"
     ]
    }
   ],
   "source": [
    "reader = pipeline('question-answering')\n",
    "question = 'what does the customer want?'\n",
    "outputs = reader(question=question, context=text)"
   ]
  },
  {
   "cell_type": "code",
   "execution_count": 22,
   "id": "6bc8b281",
   "metadata": {},
   "outputs": [
    {
     "data": {
      "text/html": [
       "<div>\n",
       "<style scoped>\n",
       "    .dataframe tbody tr th:only-of-type {\n",
       "        vertical-align: middle;\n",
       "    }\n",
       "\n",
       "    .dataframe tbody tr th {\n",
       "        vertical-align: top;\n",
       "    }\n",
       "\n",
       "    .dataframe thead th {\n",
       "        text-align: right;\n",
       "    }\n",
       "</style>\n",
       "<table border=\"1\" class=\"dataframe\">\n",
       "  <thead>\n",
       "    <tr style=\"text-align: right;\">\n",
       "      <th></th>\n",
       "      <th>score</th>\n",
       "      <th>start</th>\n",
       "      <th>end</th>\n",
       "      <th>answer</th>\n",
       "    </tr>\n",
       "  </thead>\n",
       "  <tbody>\n",
       "    <tr>\n",
       "      <th>0</th>\n",
       "      <td>0.420892</td>\n",
       "      <td>37</td>\n",
       "      <td>64</td>\n",
       "      <td>Optimus Prime action figure</td>\n",
       "    </tr>\n",
       "  </tbody>\n",
       "</table>\n",
       "</div>"
      ],
      "text/plain": [
       "      score  start  end                       answer\n",
       "0  0.420892     37   64  Optimus Prime action figure"
      ]
     },
     "execution_count": 22,
     "metadata": {},
     "output_type": "execute_result"
    }
   ],
   "source": [
    "pd.DataFrame([outputs])"
   ]
  },
  {
   "cell_type": "markdown",
   "id": "611a4688",
   "metadata": {},
   "source": [
    "    - 답이 위치한 문자 인덱스에 해당하는 start와 end 정수를 반환함\n",
    "    - 답변을 텍스트에서 직접 추출하기 때문에 '추출적 질문 답변(extractive question answering)' "
   ]
  },
  {
   "cell_type": "markdown",
   "id": "eadfcb96",
   "metadata": {},
   "source": [
    "**`요약(text summarization)`**"
   ]
  },
  {
   "cell_type": "markdown",
   "id": "263e2c43",
   "metadata": {},
   "source": [
    "    - 긴 텍스트를 입력으로 받고, 사실이 모두 포함된 간단한 버전 생성\n",
    "    - 모델이 논리적인 텍스트를 생성해야 하므로, 이전 문제보다 훨씬 복잡한 작업"
   ]
  },
  {
   "cell_type": "code",
   "execution_count": 23,
   "id": "76b5ed89",
   "metadata": {},
   "outputs": [
    {
     "name": "stderr",
     "output_type": "stream",
     "text": [
      "No model was supplied, defaulted to sshleifer/distilbart-cnn-12-6 and revision a4f8f3e (https://huggingface.co/sshleifer/distilbart-cnn-12-6).\n",
      "Using a pipeline without specifying a model name and revision in production is not recommended.\n"
     ]
    }
   ],
   "source": [
    "summarizer = pipeline('summarization')\n",
    "outputs = summarizer(text, max_length=56, clean_up_tokenization_spaces=True)"
   ]
  },
  {
   "cell_type": "code",
   "execution_count": 24,
   "id": "adb23752",
   "metadata": {},
   "outputs": [
    {
     "name": "stdout",
     "output_type": "stream",
     "text": [
      " Dera Amazon, last weeek I ordered on Optimus Prime action figure from your online store in Germany.Unfortunately, when I opened the package, I deiscovered to my horror that I had been sent an action figure of Megatron insted! As a lifelong enemy\n"
     ]
    }
   ],
   "source": [
    "print(outputs[0]['summary_text'])"
   ]
  },
  {
   "cell_type": "markdown",
   "id": "0f36ab7f",
   "metadata": {},
   "source": [
    "    - 피드백이 이해할 수 없는 언어로 되어있다면, 구글 번역을 이용하거나\n",
    "    직접 트랜스포머 모델을 사용하여 번역하는 방법이 있음"
   ]
  },
  {
   "cell_type": "markdown",
   "id": "73e67d83",
   "metadata": {},
   "source": [
    "**`번역`**\n",
    "\n",
    "- 요약과 같이 텍스트를 생성해 출력하는 작업"
   ]
  },
  {
   "cell_type": "code",
   "execution_count": 30,
   "id": "fba70a0b",
   "metadata": {},
   "outputs": [
    {
     "name": "stdout",
     "output_type": "stream",
     "text": [
      "Dera Amazon, letzte Woche bestellte ich auf Optimus Prime Action Figur von Ihrem Online-Shop in Deutschland. Leider, als ich das Paket öffnete, habe ich zu meinem Entsetzen entdeckt, dass ich eine Action Figur von Megatron insted geschickt worden war! Als lebenslanger Feind von Trhe Decepticons, hoffe ich, dass Sie mein Dilemma verstehen können,........................................................................................................................................................................................................................ \n"
     ]
    }
   ],
   "source": [
    "translator = pipeline('translation_en_to_de',\n",
    "                     model='Helsinki-NLP/opus-mt-en-de')\n",
    "outputs= translator(text, clean_up_tokenization_spaces=True, min_length=100)\n",
    "print(outputs[0]['translation_text'])"
   ]
  },
  {
   "cell_type": "markdown",
   "id": "b2cb219e",
   "metadata": {},
   "source": [
    "    - 파이프라인의 기본 모델을 오버라이드(override)해서 애플리케이션에 가장 잘 맞는 모델 선택\n",
    "    "
   ]
  },
  {
   "cell_type": "markdown",
   "id": "9587daf2",
   "metadata": {},
   "source": [
    "**`텍스트 생성`**"
   ]
  },
  {
   "cell_type": "code",
   "execution_count": 31,
   "id": "438b30b1",
   "metadata": {},
   "outputs": [
    {
     "name": "stderr",
     "output_type": "stream",
     "text": [
      "No model was supplied, defaulted to gpt2 and revision 6c0e608 (https://huggingface.co/gpt2).\n",
      "Using a pipeline without specifying a model name and revision in production is not recommended.\n"
     ]
    },
    {
     "data": {
      "application/vnd.jupyter.widget-view+json": {
       "model_id": "c5d0f6d0cdad4da6a72e586e20ee39e5",
       "version_major": 2,
       "version_minor": 0
      },
      "text/plain": [
       "Downloading:   0%|          | 0.00/665 [00:00<?, ?B/s]"
      ]
     },
     "metadata": {},
     "output_type": "display_data"
    },
    {
     "data": {
      "application/vnd.jupyter.widget-view+json": {
       "model_id": "6db8ad967c2b4a1393a0b391d87ca645",
       "version_major": 2,
       "version_minor": 0
      },
      "text/plain": [
       "Downloading:   0%|          | 0.00/548M [00:00<?, ?B/s]"
      ]
     },
     "metadata": {},
     "output_type": "display_data"
    },
    {
     "data": {
      "application/vnd.jupyter.widget-view+json": {
       "model_id": "5029bc4901c841ddb4612840b867e3dc",
       "version_major": 2,
       "version_minor": 0
      },
      "text/plain": [
       "Downloading:   0%|          | 0.00/1.04M [00:00<?, ?B/s]"
      ]
     },
     "metadata": {},
     "output_type": "display_data"
    },
    {
     "data": {
      "application/vnd.jupyter.widget-view+json": {
       "model_id": "b05c7de4a7e44313beef061cd42fa633",
       "version_major": 2,
       "version_minor": 0
      },
      "text/plain": [
       "Downloading:   0%|          | 0.00/456k [00:00<?, ?B/s]"
      ]
     },
     "metadata": {},
     "output_type": "display_data"
    },
    {
     "data": {
      "application/vnd.jupyter.widget-view+json": {
       "model_id": "3505f18ec12141bf9571577db007e647",
       "version_major": 2,
       "version_minor": 0
      },
      "text/plain": [
       "Downloading:   0%|          | 0.00/1.36M [00:00<?, ?B/s]"
      ]
     },
     "metadata": {},
     "output_type": "display_data"
    },
    {
     "name": "stderr",
     "output_type": "stream",
     "text": [
      "Setting `pad_token_id` to `eos_token_id`:50256 for open-end generation.\n"
     ]
    },
    {
     "name": "stdout",
     "output_type": "stream",
     "text": [
      "Dera Amazon, last weeek I ordered on Optimus Prime action figure from your online store in Germany.\n",
      "Unfortunately, when I opened the package, I deiscovered to my horror that I had been sent an action figure of Megatron insted!\n",
      "As a lifelong enemy of trhe Decepticons, I hope you can understand my dilemma.\n",
      "\n",
      "Customer service response:\n",
      "Dear Bumblebee, I am sorry to hear that your order was mixed up. I know that the orders are processed by the same company that sent the order, but this time the customer service response to my question simply stated that this was not my order. I ordered from a large shipping company. You will need to speak to a representative, because the company may have a problem.\n",
      "\n",
      "Thanks for your time.\n"
     ]
    }
   ],
   "source": [
    "generator = pipeline('text-generation')\n",
    "response = 'Dear Bumblebee, I am sorry to hear that your order was mixed up.'\n",
    "prompt = text + '\\n\\nCustomer service response:\\n' + response\n",
    "outputs = generator(prompt, max_length=200)\n",
    "print(outputs[0]['generated_text'])"
   ]
  },
  {
   "cell_type": "markdown",
   "id": "41df1a0e",
   "metadata": {},
   "source": [
    "    - 답변의 아이디어 얻기"
   ]
  },
  {
   "cell_type": "markdown",
   "id": "f4d19a2f",
   "metadata": {},
   "source": [
    "### `허깅페이스 데이터셋`\n",
    "\n",
    "    - 메모리 매핑(memory mapping) 메커니즘을 활용해 램 부족을 피함\n",
    "    파일 내용을 가상 메모리에 저장하고 여러 개의 프로세스로 더 효율ㅈ거으로 팡리을 수정함\n",
    "    - 데이터 랭그링(data wrangling) 도구를 그대로 사용해도 좋음\n",
    "    \n",
    "### `허깅페이스 엑셀러레이트`\n",
    "\n",
    "    - 사용자의 정의의 로직을 처리하는 일반적인 훈련 루프에 훈련 인프라에 필요한 추상화 층 추가"
   ]
  },
  {
   "cell_type": "code",
   "execution_count": null,
   "id": "f5253b7d",
   "metadata": {},
   "outputs": [],
   "source": []
  }
 ],
 "metadata": {
  "kernelspec": {
   "display_name": "Python 3 (ipykernel)",
   "language": "python",
   "name": "python3"
  },
  "language_info": {
   "codemirror_mode": {
    "name": "ipython",
    "version": 3
   },
   "file_extension": ".py",
   "mimetype": "text/x-python",
   "name": "python",
   "nbconvert_exporter": "python",
   "pygments_lexer": "ipython3",
   "version": "3.9.12"
  }
 },
 "nbformat": 4,
 "nbformat_minor": 5
}
