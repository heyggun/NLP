{
 "cells": [
  {
   "cell_type": "markdown",
   "id": "7df89819",
   "metadata": {},
   "source": [
    "# TF-IDF"
   ]
  },
  {
   "cell_type": "code",
   "execution_count": 1,
   "id": "aad9c535",
   "metadata": {},
   "outputs": [],
   "source": [
    "docs = [\"The duck loves to eat the worm\",\n",
    "        \"The worm doesn't like the early bird\",\n",
    "        \"The bird loves to get up early to get the worm\",\n",
    "        \"The bird gets the worm from the early duck\",\n",
    "        \"The duck and the birds are so different from each other but one thing they have in common is that they both get the worm\"\n",
    "]"
   ]
  },
  {
   "cell_type": "code",
   "execution_count": 2,
   "id": "9184a099",
   "metadata": {},
   "outputs": [
    {
     "name": "stdout",
     "output_type": "stream",
     "text": [
      "['The', 'and', 'are', 'bird', 'birds', 'both', 'but', 'common', 'different', \"doesn't\", 'duck', 'each', 'early', 'eat', 'from', 'get', 'gets', 'have', 'in', 'is', 'like', 'loves', 'one', 'other', 'so', 'that', 'the', 'they', 'thing', 'to', 'up', 'worm']\n"
     ]
    }
   ],
   "source": [
    "vocab = set()\n",
    "\n",
    "for doc in docs:\n",
    "    for w in doc.split():\n",
    "        vocab.add(w)\n",
    "        \n",
    "vocab = sorted(list(vocab))\n",
    "print(vocab)"
   ]
  },
  {
   "cell_type": "code",
   "execution_count": 3,
   "id": "92cf9f86",
   "metadata": {},
   "outputs": [],
   "source": [
    "import pandas as pd"
   ]
  },
  {
   "cell_type": "code",
   "execution_count": 4,
   "id": "c84516fe",
   "metadata": {},
   "outputs": [],
   "source": [
    "from math import log\n",
    "\n",
    "N = len(docs)\n",
    "\n",
    "def tf(f,d):\n",
    "    return d.count(f)\n",
    "\n",
    "def idf(t):\n",
    "    df = 0\n",
    "    for doc in docs:\n",
    "        df += t in doc\n",
    "        \n",
    "    return log(N/(df+1))\n",
    "\n",
    "def tf_idf(f,d):\n",
    "    return tf(f,d) * idf(t)\n",
    "            "
   ]
  },
  {
   "cell_type": "code",
   "execution_count": 5,
   "id": "fbc83d18",
   "metadata": {},
   "outputs": [
    {
     "data": {
      "text/html": [
       "<div>\n",
       "<style scoped>\n",
       "    .dataframe tbody tr th:only-of-type {\n",
       "        vertical-align: middle;\n",
       "    }\n",
       "\n",
       "    .dataframe tbody tr th {\n",
       "        vertical-align: top;\n",
       "    }\n",
       "\n",
       "    .dataframe thead th {\n",
       "        text-align: right;\n",
       "    }\n",
       "</style>\n",
       "<table border=\"1\" class=\"dataframe\">\n",
       "  <thead>\n",
       "    <tr style=\"text-align: right;\">\n",
       "      <th></th>\n",
       "      <th>The</th>\n",
       "      <th>and</th>\n",
       "      <th>are</th>\n",
       "      <th>bird</th>\n",
       "      <th>birds</th>\n",
       "      <th>both</th>\n",
       "      <th>but</th>\n",
       "      <th>common</th>\n",
       "      <th>different</th>\n",
       "      <th>doesn't</th>\n",
       "      <th>...</th>\n",
       "      <th>one</th>\n",
       "      <th>other</th>\n",
       "      <th>so</th>\n",
       "      <th>that</th>\n",
       "      <th>the</th>\n",
       "      <th>they</th>\n",
       "      <th>thing</th>\n",
       "      <th>to</th>\n",
       "      <th>up</th>\n",
       "      <th>worm</th>\n",
       "    </tr>\n",
       "  </thead>\n",
       "  <tbody>\n",
       "    <tr>\n",
       "      <th>0</th>\n",
       "      <td>1</td>\n",
       "      <td>0</td>\n",
       "      <td>0</td>\n",
       "      <td>0</td>\n",
       "      <td>0</td>\n",
       "      <td>0</td>\n",
       "      <td>0</td>\n",
       "      <td>0</td>\n",
       "      <td>0</td>\n",
       "      <td>0</td>\n",
       "      <td>...</td>\n",
       "      <td>0</td>\n",
       "      <td>0</td>\n",
       "      <td>0</td>\n",
       "      <td>0</td>\n",
       "      <td>1</td>\n",
       "      <td>0</td>\n",
       "      <td>0</td>\n",
       "      <td>1</td>\n",
       "      <td>0</td>\n",
       "      <td>1</td>\n",
       "    </tr>\n",
       "    <tr>\n",
       "      <th>1</th>\n",
       "      <td>1</td>\n",
       "      <td>0</td>\n",
       "      <td>0</td>\n",
       "      <td>1</td>\n",
       "      <td>0</td>\n",
       "      <td>0</td>\n",
       "      <td>0</td>\n",
       "      <td>0</td>\n",
       "      <td>0</td>\n",
       "      <td>1</td>\n",
       "      <td>...</td>\n",
       "      <td>0</td>\n",
       "      <td>0</td>\n",
       "      <td>0</td>\n",
       "      <td>0</td>\n",
       "      <td>1</td>\n",
       "      <td>0</td>\n",
       "      <td>0</td>\n",
       "      <td>0</td>\n",
       "      <td>0</td>\n",
       "      <td>1</td>\n",
       "    </tr>\n",
       "    <tr>\n",
       "      <th>2</th>\n",
       "      <td>1</td>\n",
       "      <td>0</td>\n",
       "      <td>0</td>\n",
       "      <td>1</td>\n",
       "      <td>0</td>\n",
       "      <td>0</td>\n",
       "      <td>0</td>\n",
       "      <td>0</td>\n",
       "      <td>0</td>\n",
       "      <td>0</td>\n",
       "      <td>...</td>\n",
       "      <td>0</td>\n",
       "      <td>0</td>\n",
       "      <td>0</td>\n",
       "      <td>0</td>\n",
       "      <td>1</td>\n",
       "      <td>0</td>\n",
       "      <td>0</td>\n",
       "      <td>2</td>\n",
       "      <td>1</td>\n",
       "      <td>1</td>\n",
       "    </tr>\n",
       "    <tr>\n",
       "      <th>3</th>\n",
       "      <td>1</td>\n",
       "      <td>0</td>\n",
       "      <td>0</td>\n",
       "      <td>1</td>\n",
       "      <td>0</td>\n",
       "      <td>0</td>\n",
       "      <td>0</td>\n",
       "      <td>0</td>\n",
       "      <td>0</td>\n",
       "      <td>0</td>\n",
       "      <td>...</td>\n",
       "      <td>0</td>\n",
       "      <td>0</td>\n",
       "      <td>0</td>\n",
       "      <td>0</td>\n",
       "      <td>2</td>\n",
       "      <td>0</td>\n",
       "      <td>0</td>\n",
       "      <td>0</td>\n",
       "      <td>0</td>\n",
       "      <td>1</td>\n",
       "    </tr>\n",
       "    <tr>\n",
       "      <th>4</th>\n",
       "      <td>1</td>\n",
       "      <td>1</td>\n",
       "      <td>1</td>\n",
       "      <td>1</td>\n",
       "      <td>1</td>\n",
       "      <td>1</td>\n",
       "      <td>1</td>\n",
       "      <td>1</td>\n",
       "      <td>1</td>\n",
       "      <td>0</td>\n",
       "      <td>...</td>\n",
       "      <td>1</td>\n",
       "      <td>1</td>\n",
       "      <td>1</td>\n",
       "      <td>1</td>\n",
       "      <td>5</td>\n",
       "      <td>2</td>\n",
       "      <td>1</td>\n",
       "      <td>0</td>\n",
       "      <td>0</td>\n",
       "      <td>1</td>\n",
       "    </tr>\n",
       "  </tbody>\n",
       "</table>\n",
       "<p>5 rows × 32 columns</p>\n",
       "</div>"
      ],
      "text/plain": [
       "   The  and  are  bird  birds  both  but  common  different  doesn't  ...  \\\n",
       "0    1    0    0     0      0     0    0       0          0        0  ...   \n",
       "1    1    0    0     1      0     0    0       0          0        1  ...   \n",
       "2    1    0    0     1      0     0    0       0          0        0  ...   \n",
       "3    1    0    0     1      0     0    0       0          0        0  ...   \n",
       "4    1    1    1     1      1     1    1       1          1        0  ...   \n",
       "\n",
       "   one  other  so  that  the  they  thing  to  up  worm  \n",
       "0    0      0   0     0    1     0      0   1   0     1  \n",
       "1    0      0   0     0    1     0      0   0   0     1  \n",
       "2    0      0   0     0    1     0      0   2   1     1  \n",
       "3    0      0   0     0    2     0      0   0   0     1  \n",
       "4    1      1   1     1    5     2      1   0   0     1  \n",
       "\n",
       "[5 rows x 32 columns]"
      ]
     },
     "execution_count": 5,
     "metadata": {},
     "output_type": "execute_result"
    }
   ],
   "source": [
    "result = []\n",
    "\n",
    "for i in range(N):\n",
    "    result.append([])\n",
    "    d = docs[i]\n",
    "    for j in range(len(vocab)):\n",
    "        t = vocab[j]\n",
    "        result[-1].append(tf(t,d))\n",
    "        \n",
    "tf_ = pd.DataFrame(result, columns=vocab)\n",
    "tf_"
   ]
  },
  {
   "cell_type": "code",
   "execution_count": 23,
   "id": "a4485c7f",
   "metadata": {},
   "outputs": [
    {
     "data": {
      "text/plain": [
       "The          5\n",
       "and          1\n",
       "are          1\n",
       "bird         4\n",
       "birds        1\n",
       "both         1\n",
       "but          1\n",
       "common       1\n",
       "different    1\n",
       "doesn't      1\n",
       "duck         3\n",
       "each         1\n",
       "early        3\n",
       "eat          1\n",
       "from         2\n",
       "get          3\n",
       "gets         1\n",
       "have         1\n",
       "in           1\n",
       "is           1\n",
       "like         1\n",
       "loves        2\n",
       "one          1\n",
       "other        1\n",
       "so           1\n",
       "that         1\n",
       "the          5\n",
       "they         1\n",
       "thing        1\n",
       "to           2\n",
       "up           1\n",
       "worm         5\n",
       "dtype: int64"
      ]
     },
     "execution_count": 23,
     "metadata": {},
     "output_type": "execute_result"
    }
   ],
   "source": [
    "tf_.astype(bool).sum(axis=0)"
   ]
  },
  {
   "cell_type": "code",
   "execution_count": 6,
   "id": "be64215f",
   "metadata": {},
   "outputs": [
    {
     "data": {
      "text/html": [
       "<div>\n",
       "<style scoped>\n",
       "    .dataframe tbody tr th:only-of-type {\n",
       "        vertical-align: middle;\n",
       "    }\n",
       "\n",
       "    .dataframe tbody tr th {\n",
       "        vertical-align: top;\n",
       "    }\n",
       "\n",
       "    .dataframe thead th {\n",
       "        text-align: right;\n",
       "    }\n",
       "</style>\n",
       "<table border=\"1\" class=\"dataframe\">\n",
       "  <thead>\n",
       "    <tr style=\"text-align: right;\">\n",
       "      <th></th>\n",
       "      <th>IDF</th>\n",
       "    </tr>\n",
       "  </thead>\n",
       "  <tbody>\n",
       "    <tr>\n",
       "      <th>The</th>\n",
       "      <td>-0.182322</td>\n",
       "    </tr>\n",
       "    <tr>\n",
       "      <th>and</th>\n",
       "      <td>0.916291</td>\n",
       "    </tr>\n",
       "    <tr>\n",
       "      <th>are</th>\n",
       "      <td>0.916291</td>\n",
       "    </tr>\n",
       "    <tr>\n",
       "      <th>bird</th>\n",
       "      <td>0.000000</td>\n",
       "    </tr>\n",
       "    <tr>\n",
       "      <th>birds</th>\n",
       "      <td>0.916291</td>\n",
       "    </tr>\n",
       "    <tr>\n",
       "      <th>both</th>\n",
       "      <td>0.916291</td>\n",
       "    </tr>\n",
       "    <tr>\n",
       "      <th>but</th>\n",
       "      <td>0.916291</td>\n",
       "    </tr>\n",
       "    <tr>\n",
       "      <th>common</th>\n",
       "      <td>0.916291</td>\n",
       "    </tr>\n",
       "    <tr>\n",
       "      <th>different</th>\n",
       "      <td>0.916291</td>\n",
       "    </tr>\n",
       "    <tr>\n",
       "      <th>doesn't</th>\n",
       "      <td>0.916291</td>\n",
       "    </tr>\n",
       "    <tr>\n",
       "      <th>duck</th>\n",
       "      <td>0.223144</td>\n",
       "    </tr>\n",
       "    <tr>\n",
       "      <th>each</th>\n",
       "      <td>0.916291</td>\n",
       "    </tr>\n",
       "    <tr>\n",
       "      <th>early</th>\n",
       "      <td>0.223144</td>\n",
       "    </tr>\n",
       "    <tr>\n",
       "      <th>eat</th>\n",
       "      <td>0.916291</td>\n",
       "    </tr>\n",
       "    <tr>\n",
       "      <th>from</th>\n",
       "      <td>0.510826</td>\n",
       "    </tr>\n",
       "    <tr>\n",
       "      <th>get</th>\n",
       "      <td>0.223144</td>\n",
       "    </tr>\n",
       "    <tr>\n",
       "      <th>gets</th>\n",
       "      <td>0.916291</td>\n",
       "    </tr>\n",
       "    <tr>\n",
       "      <th>have</th>\n",
       "      <td>0.916291</td>\n",
       "    </tr>\n",
       "    <tr>\n",
       "      <th>in</th>\n",
       "      <td>0.916291</td>\n",
       "    </tr>\n",
       "    <tr>\n",
       "      <th>is</th>\n",
       "      <td>0.916291</td>\n",
       "    </tr>\n",
       "    <tr>\n",
       "      <th>like</th>\n",
       "      <td>0.916291</td>\n",
       "    </tr>\n",
       "    <tr>\n",
       "      <th>loves</th>\n",
       "      <td>0.510826</td>\n",
       "    </tr>\n",
       "    <tr>\n",
       "      <th>one</th>\n",
       "      <td>0.916291</td>\n",
       "    </tr>\n",
       "    <tr>\n",
       "      <th>other</th>\n",
       "      <td>0.916291</td>\n",
       "    </tr>\n",
       "    <tr>\n",
       "      <th>so</th>\n",
       "      <td>0.916291</td>\n",
       "    </tr>\n",
       "    <tr>\n",
       "      <th>that</th>\n",
       "      <td>0.916291</td>\n",
       "    </tr>\n",
       "    <tr>\n",
       "      <th>the</th>\n",
       "      <td>-0.182322</td>\n",
       "    </tr>\n",
       "    <tr>\n",
       "      <th>they</th>\n",
       "      <td>0.916291</td>\n",
       "    </tr>\n",
       "    <tr>\n",
       "      <th>thing</th>\n",
       "      <td>0.916291</td>\n",
       "    </tr>\n",
       "    <tr>\n",
       "      <th>to</th>\n",
       "      <td>0.510826</td>\n",
       "    </tr>\n",
       "    <tr>\n",
       "      <th>up</th>\n",
       "      <td>0.916291</td>\n",
       "    </tr>\n",
       "    <tr>\n",
       "      <th>worm</th>\n",
       "      <td>-0.182322</td>\n",
       "    </tr>\n",
       "  </tbody>\n",
       "</table>\n",
       "</div>"
      ],
      "text/plain": [
       "                IDF\n",
       "The       -0.182322\n",
       "and        0.916291\n",
       "are        0.916291\n",
       "bird       0.000000\n",
       "birds      0.916291\n",
       "both       0.916291\n",
       "but        0.916291\n",
       "common     0.916291\n",
       "different  0.916291\n",
       "doesn't    0.916291\n",
       "duck       0.223144\n",
       "each       0.916291\n",
       "early      0.223144\n",
       "eat        0.916291\n",
       "from       0.510826\n",
       "get        0.223144\n",
       "gets       0.916291\n",
       "have       0.916291\n",
       "in         0.916291\n",
       "is         0.916291\n",
       "like       0.916291\n",
       "loves      0.510826\n",
       "one        0.916291\n",
       "other      0.916291\n",
       "so         0.916291\n",
       "that       0.916291\n",
       "the       -0.182322\n",
       "they       0.916291\n",
       "thing      0.916291\n",
       "to         0.510826\n",
       "up         0.916291\n",
       "worm      -0.182322"
      ]
     },
     "execution_count": 6,
     "metadata": {},
     "output_type": "execute_result"
    }
   ],
   "source": [
    "result = []\n",
    "\n",
    "for j in range(len(vocab)):\n",
    "    t = vocab[j]\n",
    "    result.append(idf(t))\n",
    "    \n",
    "idf_ = pd.DataFrame(result, columns=['IDF'], index=vocab)\n",
    "idf_"
   ]
  },
  {
   "cell_type": "code",
   "execution_count": null,
   "id": "377a7cda",
   "metadata": {},
   "outputs": [],
   "source": []
  },
  {
   "cell_type": "markdown",
   "id": "b93fe89c",
   "metadata": {},
   "source": [
    "### TDM, TF-IDF"
   ]
  },
  {
   "cell_type": "code",
   "execution_count": 7,
   "id": "7bd7f1ad",
   "metadata": {},
   "outputs": [],
   "source": [
    "from sklearn.feature_extraction.text import CountVectorizer"
   ]
  },
  {
   "cell_type": "code",
   "execution_count": 8,
   "id": "b5500879",
   "metadata": {},
   "outputs": [
    {
     "name": "stdout",
     "output_type": "stream",
     "text": [
      "[[0 0 0 0 0 0 0 0 0 1 0 0 1 0 0 0 0 0 0 0 1 0 0 0 0 2 0 0 1 0 1]\n",
      " [0 0 1 0 0 0 0 0 1 0 0 1 0 0 0 0 0 0 0 1 0 0 0 0 0 2 0 0 0 0 1]\n",
      " [0 0 1 0 0 0 0 0 0 0 0 1 0 0 2 0 0 0 0 0 1 0 0 0 0 2 0 0 2 1 1]\n",
      " [0 0 1 0 0 0 0 0 0 1 0 1 0 1 0 1 0 0 0 0 0 0 0 0 0 3 0 0 0 0 1]\n",
      " [1 1 0 1 1 1 1 1 0 1 1 0 0 1 1 0 1 1 1 0 0 1 1 1 1 3 2 1 0 0 1]]\n",
      "{'and': 0, 'are': 1, 'bird': 2, 'birds': 3, 'both': 4, 'but': 5, 'common': 6, 'different': 7, 'doesn': 8, 'duck': 9, 'each': 10, 'early': 11, 'eat': 12, 'from': 13, 'get': 14, 'gets': 15, 'have': 16, 'in': 17, 'is': 18, 'like': 19, 'loves': 20, 'one': 21, 'other': 22, 'so': 23, 'that': 24, 'the': 25, 'they': 26, 'thing': 27, 'to': 28, 'up': 29, 'worm': 30}\n"
     ]
    }
   ],
   "source": [
    "vector = CountVectorizer()\n",
    "print(vector.fit_transform(docs).toarray())\n",
    "print(dict(sorted(vector.vocabulary_.items(), key=lambda x: x[1])))"
   ]
  },
  {
   "cell_type": "code",
   "execution_count": null,
   "id": "6c4e8153",
   "metadata": {},
   "outputs": [],
   "source": []
  },
  {
   "cell_type": "code",
   "execution_count": 9,
   "id": "f0fcc643",
   "metadata": {},
   "outputs": [],
   "source": [
    "from sklearn.feature_extraction.text import TfidfVectorizer"
   ]
  },
  {
   "cell_type": "code",
   "execution_count": 10,
   "id": "7e4081cf",
   "metadata": {},
   "outputs": [
    {
     "name": "stdout",
     "output_type": "stream",
     "text": [
      "[[0.         0.         0.         0.         0.         0.\n",
      "  0.         0.         0.         0.33974806 0.         0.\n",
      "  0.50730499 0.         0.         0.         0.         0.\n",
      "  0.         0.         0.40929047 0.         0.         0.\n",
      "  0.         0.48346709 0.         0.         0.40929047 0.\n",
      "  0.24173354]\n",
      " [0.         0.         0.33351139 0.         0.         0.\n",
      "  0.         0.         0.49799252 0.         0.         0.33351139\n",
      "  0.         0.         0.         0.         0.         0.\n",
      "  0.         0.49799252 0.         0.         0.         0.\n",
      "  0.         0.47459221 0.         0.         0.         0.\n",
      "  0.2372961 ]\n",
      " [0.         0.         0.22460702 0.         0.         0.\n",
      "  0.         0.         0.         0.         0.         0.22460702\n",
      "  0.         0.         0.54116284 0.         0.         0.\n",
      "  0.         0.         0.27058142 0.         0.         0.\n",
      "  0.         0.31961949 0.         0.         0.54116284 0.33537869\n",
      "  0.15980974]\n",
      " [0.         0.         0.2918132  0.         0.         0.\n",
      "  0.         0.         0.         0.2918132  0.         0.2918132\n",
      "  0.         0.35154391 0.         0.43572961 0.         0.\n",
      "  0.         0.         0.         0.         0.         0.\n",
      "  0.         0.62288248 0.         0.         0.         0.\n",
      "  0.20762749]\n",
      " [0.20403524 0.20403524 0.         0.20403524 0.20403524 0.20403524\n",
      "  0.20403524 0.20403524 0.         0.13664478 0.20403524 0.\n",
      "  0.         0.16461435 0.16461435 0.         0.20403524 0.20403524\n",
      "  0.20403524 0.         0.         0.20403524 0.20403524 0.20403524\n",
      "  0.20403524 0.29167166 0.40807048 0.20403524 0.         0.\n",
      "  0.09722389]]\n",
      "{'and': 0, 'are': 1, 'bird': 2, 'birds': 3, 'both': 4, 'but': 5, 'common': 6, 'different': 7, 'doesn': 8, 'duck': 9, 'each': 10, 'early': 11, 'eat': 12, 'from': 13, 'get': 14, 'gets': 15, 'have': 16, 'in': 17, 'is': 18, 'like': 19, 'loves': 20, 'one': 21, 'other': 22, 'so': 23, 'that': 24, 'the': 25, 'they': 26, 'thing': 27, 'to': 28, 'up': 29, 'worm': 30}\n"
     ]
    }
   ],
   "source": [
    "tfidf = TfidfVectorizer().fit(docs)\n",
    "print(tfidf.fit_transform(docs).toarray())\n",
    "print(dict(sorted(tfidf.vocabulary_.items(), key=lambda x:x[1])))"
   ]
  },
  {
   "cell_type": "code",
   "execution_count": null,
   "id": "d4a2ada0",
   "metadata": {},
   "outputs": [],
   "source": []
  },
  {
   "cell_type": "markdown",
   "id": "bedee4ba",
   "metadata": {},
   "source": [
    "----"
   ]
  },
  {
   "cell_type": "markdown",
   "id": "9c3b0267",
   "metadata": {},
   "source": [
    "## TF-IDF 기반 Doc similarity"
   ]
  },
  {
   "cell_type": "code",
   "execution_count": 40,
   "id": "fd97b1ed",
   "metadata": {},
   "outputs": [
    {
     "data": {
      "text/plain": [
       "array(['and', 'are', 'bird', 'birds', 'both', 'but', 'common',\n",
       "       'different', 'doesn', 'duck', 'each', 'early', 'eat', 'from',\n",
       "       'get', 'gets', 'have', 'in', 'is', 'like', 'loves', 'one', 'other',\n",
       "       'so', 'that', 'the', 'they', 'thing', 'to', 'up', 'worm'],\n",
       "      dtype=object)"
      ]
     },
     "execution_count": 40,
     "metadata": {},
     "output_type": "execute_result"
    }
   ],
   "source": [
    "from sklearn.feature_extraction.text import CountVectorizer\n",
    "\n",
    "vectorizer = CountVectorizer(min_df=1)\n",
    "\n",
    "X = vectorizer.fit_transform(docs)\n",
    "vectorizer.get_feature_names_out()"
   ]
  },
  {
   "cell_type": "code",
   "execution_count": 41,
   "id": "0fbba822",
   "metadata": {},
   "outputs": [
    {
     "data": {
      "text/plain": [
       "array([[0, 0, 0, 0, 0, 0, 0, 0, 0, 1, 0, 0, 1, 0, 0, 0, 0, 0, 0, 0, 1, 0,\n",
       "        0, 0, 0, 2, 0, 0, 1, 0, 1],\n",
       "       [0, 0, 1, 0, 0, 0, 0, 0, 1, 0, 0, 1, 0, 0, 0, 0, 0, 0, 0, 1, 0, 0,\n",
       "        0, 0, 0, 2, 0, 0, 0, 0, 1],\n",
       "       [0, 0, 1, 0, 0, 0, 0, 0, 0, 0, 0, 1, 0, 0, 2, 0, 0, 0, 0, 0, 1, 0,\n",
       "        0, 0, 0, 2, 0, 0, 2, 1, 1],\n",
       "       [0, 0, 1, 0, 0, 0, 0, 0, 0, 1, 0, 1, 0, 1, 0, 1, 0, 0, 0, 0, 0, 0,\n",
       "        0, 0, 0, 3, 0, 0, 0, 0, 1],\n",
       "       [1, 1, 0, 1, 1, 1, 1, 1, 0, 1, 1, 0, 0, 1, 1, 0, 1, 1, 1, 0, 0, 1,\n",
       "        1, 1, 1, 3, 2, 1, 0, 0, 1]], dtype=int64)"
      ]
     },
     "execution_count": 41,
     "metadata": {},
     "output_type": "execute_result"
    }
   ],
   "source": [
    "X.toarray()"
   ]
  },
  {
   "cell_type": "code",
   "execution_count": 42,
   "id": "0dc0c953",
   "metadata": {},
   "outputs": [
    {
     "data": {
      "text/plain": [
       "array([[0, 0, 0, 0, 1],\n",
       "       [0, 0, 0, 0, 1],\n",
       "       [0, 1, 1, 1, 0],\n",
       "       [0, 0, 0, 0, 1],\n",
       "       [0, 0, 0, 0, 1],\n",
       "       [0, 0, 0, 0, 1],\n",
       "       [0, 0, 0, 0, 1],\n",
       "       [0, 0, 0, 0, 1],\n",
       "       [0, 1, 0, 0, 0],\n",
       "       [1, 0, 0, 1, 1],\n",
       "       [0, 0, 0, 0, 1],\n",
       "       [0, 1, 1, 1, 0],\n",
       "       [1, 0, 0, 0, 0],\n",
       "       [0, 0, 0, 1, 1],\n",
       "       [0, 0, 2, 0, 1],\n",
       "       [0, 0, 0, 1, 0],\n",
       "       [0, 0, 0, 0, 1],\n",
       "       [0, 0, 0, 0, 1],\n",
       "       [0, 0, 0, 0, 1],\n",
       "       [0, 1, 0, 0, 0],\n",
       "       [1, 0, 1, 0, 0],\n",
       "       [0, 0, 0, 0, 1],\n",
       "       [0, 0, 0, 0, 1],\n",
       "       [0, 0, 0, 0, 1],\n",
       "       [0, 0, 0, 0, 1],\n",
       "       [2, 2, 2, 3, 3],\n",
       "       [0, 0, 0, 0, 2],\n",
       "       [0, 0, 0, 0, 1],\n",
       "       [1, 0, 2, 0, 0],\n",
       "       [0, 0, 1, 0, 0],\n",
       "       [1, 1, 1, 1, 1]], dtype=int64)"
      ]
     },
     "execution_count": 42,
     "metadata": {},
     "output_type": "execute_result"
    }
   ],
   "source": [
    "X.toarray().transpose()"
   ]
  },
  {
   "cell_type": "code",
   "execution_count": null,
   "id": "88d95b22",
   "metadata": {},
   "outputs": [],
   "source": []
  },
  {
   "cell_type": "code",
   "execution_count": 43,
   "id": "8a175a4a",
   "metadata": {},
   "outputs": [
    {
     "data": {
      "text/plain": [
       "array([[0, 0, 1, 0, 0, 0, 0, 0, 0, 0, 0, 1, 0, 0, 0, 1, 0, 0, 0, 0, 0, 0,\n",
       "        0, 0, 0, 2, 0, 0, 0, 0, 1]], dtype=int64)"
      ]
     },
     "execution_count": 43,
     "metadata": {},
     "output_type": "execute_result"
    }
   ],
   "source": [
    "new_doc= [\"The early bird gets the worm\"]\n",
    "new_doc_vec = vectorizer.transform(new_doc)\n",
    "new_doc_vec.toarray()"
   ]
  },
  {
   "cell_type": "code",
   "execution_count": null,
   "id": "864ceec1",
   "metadata": {},
   "outputs": [],
   "source": []
  },
  {
   "cell_type": "code",
   "execution_count": 45,
   "id": "836e0bbf",
   "metadata": {},
   "outputs": [],
   "source": [
    "# cosine similarity  \n",
    "\n",
    "import numpy as np\n",
    "from numpy import dot\n",
    "from numpy.linalg import norm"
   ]
  },
  {
   "cell_type": "code",
   "execution_count": 46,
   "id": "803ac444",
   "metadata": {},
   "outputs": [],
   "source": [
    "def cos_sim(A,B):\n",
    "    return np.dot(A,B)/(norm(A)*norm(B))"
   ]
  },
  {
   "cell_type": "code",
   "execution_count": 47,
   "id": "1f1e3f52",
   "metadata": {},
   "outputs": [
    {
     "data": {
      "text/plain": [
       "((1, 31), (1, 31))"
      ]
     },
     "execution_count": 47,
     "metadata": {},
     "output_type": "execute_result"
    }
   ],
   "source": [
    "post_vec.shape, new_doc_vec.shape"
   ]
  },
  {
   "cell_type": "code",
   "execution_count": 58,
   "id": "24733d7e",
   "metadata": {},
   "outputs": [
    {
     "name": "stdout",
     "output_type": "stream",
     "text": [
      " post_vec : 1, sim = [[0.58925565]], doc1 = The duck loves to eat the worm\n",
      " post_vec : 2, sim = [[0.82495791]], doc2 = The worm doesn't like the early bird\n",
      " post_vec : 3, sim = [[0.60024505]], doc3 = The bird loves to get up early to get the worm\n",
      " post_vec : 4, sim = [[0.91287093]], doc4 = The bird gets the worm from the early duck\n",
      " post_vec : 5, sim = [[0.43082022]], doc5 = The duck and the birds are so different from each other but one thing they have in common is that they both get the worm\n",
      "The bird gets the worm from the early duck\n"
     ]
    }
   ],
   "source": [
    "best_sim,best_i = 0,0\n",
    "\n",
    "for i in range(N):\n",
    "    post_vec = X.getrow(i)\n",
    "    sim = cos_sim(post_vec.toarray(), new_doc_vec.toarray().T)\n",
    "    \n",
    "    print(f\" post_vec : {i+1}, sim = {sim}, doc{i+1} = {docs[i]}\")\n",
    "    \n",
    "    if sim > best_sim:\n",
    "        best_sim = sim\n",
    "        best_i = i\n",
    "        \n",
    "# 가장 유사한 문장 \n",
    "print(docs[best_i])\n",
    "    "
   ]
  },
  {
   "cell_type": "code",
   "execution_count": null,
   "id": "49f7d8af",
   "metadata": {},
   "outputs": [],
   "source": []
  },
  {
   "cell_type": "code",
   "execution_count": null,
   "id": "d5dfd103",
   "metadata": {},
   "outputs": [],
   "source": []
  },
  {
   "cell_type": "markdown",
   "id": "3ce40874",
   "metadata": {},
   "source": [
    "### 형태소 분석기를 통해 특정 단어로만 유사도 평가"
   ]
  },
  {
   "cell_type": "code",
   "execution_count": 69,
   "id": "08c3a575",
   "metadata": {},
   "outputs": [
    {
     "data": {
      "text/plain": [
       "['bird', 'duck', 'worm', 'early', 'get', 'love']"
      ]
     },
     "execution_count": 69,
     "metadata": {},
     "output_type": "execute_result"
    }
   ],
   "source": [
    "token = [\"bird\", \"duck\", \"worm\", \"early\", \"get\", \"love\"]\n",
    "token"
   ]
  },
  {
   "cell_type": "code",
   "execution_count": 72,
   "id": "bf416b4d",
   "metadata": {},
   "outputs": [
    {
     "data": {
      "text/plain": [
       "[['duck', 'worm'],\n",
       " ['worm', 'early', 'bird'],\n",
       " ['bird', 'get', 'early', 'get', 'worm'],\n",
       " ['bird', 'worm', 'early', 'duck'],\n",
       " ['duck', 'get', 'worm']]"
      ]
     },
     "execution_count": 72,
     "metadata": {},
     "output_type": "execute_result"
    }
   ],
   "source": [
    "token_docs = []\n",
    "\n",
    "for doc in docs:\n",
    "    token_docs.append([])\n",
    "    for w in doc.split():\n",
    "        if w in token:\n",
    "            token_docs[-1].append(w)\n",
    "            \n",
    "token_docs"
   ]
  },
  {
   "cell_type": "code",
   "execution_count": 75,
   "id": "e647bf20",
   "metadata": {},
   "outputs": [
    {
     "data": {
      "text/plain": [
       "['duck worm',\n",
       " 'worm early bird',\n",
       " 'bird get early get worm',\n",
       " 'bird worm early duck',\n",
       " 'duck get worm']"
      ]
     },
     "execution_count": 75,
     "metadata": {},
     "output_type": "execute_result"
    }
   ],
   "source": [
    "token_docs = [' '.join(t) for t in token_docs]\n",
    "token_docs"
   ]
  },
  {
   "cell_type": "code",
   "execution_count": 76,
   "id": "6c44c4b8",
   "metadata": {},
   "outputs": [
    {
     "data": {
      "text/plain": [
       "array(['bird', 'duck', 'early', 'get', 'worm'], dtype=object)"
      ]
     },
     "execution_count": 76,
     "metadata": {},
     "output_type": "execute_result"
    }
   ],
   "source": [
    "from sklearn.feature_extraction.text import CountVectorizer\n",
    "\n",
    "vectorizer = CountVectorizer(min_df=1)\n",
    "X = vectorizer.fit_transform(token_docs)\n",
    "vectorizer.get_feature_names_out()"
   ]
  },
  {
   "cell_type": "code",
   "execution_count": 77,
   "id": "2d84bd52",
   "metadata": {},
   "outputs": [
    {
     "data": {
      "text/plain": [
       "array([[1, 0, 1, 0, 1]], dtype=int64)"
      ]
     },
     "execution_count": 77,
     "metadata": {},
     "output_type": "execute_result"
    }
   ],
   "source": [
    "new_doc= [\"The early bird gets the worm\"]\n",
    "new_doc_vec = vectorizer.transform(new_doc)\n",
    "new_doc_vec.toarray()"
   ]
  },
  {
   "cell_type": "code",
   "execution_count": 78,
   "id": "acf4d27e",
   "metadata": {},
   "outputs": [
    {
     "name": "stdout",
     "output_type": "stream",
     "text": [
      " post_vec : 1, sim = [[0.40824829]], doc1 = The duck loves to eat the worm\n",
      " post_vec : 2, sim = [[1.]], doc2 = The worm doesn't like the early bird\n",
      " post_vec : 3, sim = [[0.65465367]], doc3 = The bird loves to get up early to get the worm\n",
      " post_vec : 4, sim = [[0.8660254]], doc4 = The bird gets the worm from the early duck\n",
      " post_vec : 5, sim = [[0.33333333]], doc5 = The duck and the birds are so different from each other but one thing they have in common is that they both get the worm\n",
      "The worm doesn't like the early bird\n"
     ]
    }
   ],
   "source": [
    "best_sim,best_i = 0,0\n",
    "\n",
    "for i in range(N):\n",
    "    post_vec = X.getrow(i)\n",
    "    sim = cos_sim(post_vec.toarray(), new_doc_vec.toarray().T)\n",
    "    \n",
    "    print(f\" post_vec : {i+1}, sim = {sim}, doc{i+1} = {docs[i]}\")\n",
    "    \n",
    "    if sim > best_sim:\n",
    "        best_sim = sim\n",
    "        best_i = i\n",
    "        \n",
    "# 가장 유사한 문장 \n",
    "print(docs[best_i])"
   ]
  },
  {
   "cell_type": "code",
   "execution_count": null,
   "id": "da6cb36e",
   "metadata": {},
   "outputs": [],
   "source": []
  }
 ],
 "metadata": {
  "kernelspec": {
   "display_name": "Python 3 (ipykernel)",
   "language": "python",
   "name": "python3"
  },
  "language_info": {
   "codemirror_mode": {
    "name": "ipython",
    "version": 3
   },
   "file_extension": ".py",
   "mimetype": "text/x-python",
   "name": "python",
   "nbconvert_exporter": "python",
   "pygments_lexer": "ipython3",
   "version": "3.9.12"
  }
 },
 "nbformat": 4,
 "nbformat_minor": 5
}
