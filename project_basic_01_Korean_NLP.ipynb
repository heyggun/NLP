{
 "cells": [
  {
   "cell_type": "markdown",
   "metadata": {},
   "source": [
    "### 한글 분석기."
   ]
  },
  {
   "cell_type": "markdown",
   "metadata": {},
   "source": [
    "#### 1. 형태소 분석기 (복습)."
   ]
  },
  {
   "cell_type": "markdown",
   "metadata": {},
   "source": [
    "트위터 형태소 분석기 사용."
   ]
  },
  {
   "cell_type": "code",
   "execution_count": 1,
   "metadata": {},
   "outputs": [
    {
     "name": "stdout",
     "output_type": "stream",
     "text": [
      "['멋쟁이', '사자', '처럼과', '함께', '코딩', '을', '배우다', '보아', '요']\n"
     ]
    }
   ],
   "source": [
    "from konlpy.tag import Okt   \n",
    "okt=Okt()\n",
    "print(okt.morphs(\"멋쟁이사자처럼과 함께 코딩을 배워 보아요\", stem=True))   # 어간추출 적용한 토큰화."
   ]
  },
  {
   "cell_type": "code",
   "execution_count": 2,
   "metadata": {},
   "outputs": [
    {
     "name": "stdout",
     "output_type": "stream",
     "text": [
      "['멋쟁이', '사자', '코딩', '보아']\n"
     ]
    }
   ],
   "source": [
    "print(okt.nouns(\"멋쟁이사자처럼과 함께 코딩을 배워 보아요\"))  "
   ]
  },
  {
   "cell_type": "code",
   "execution_count": 3,
   "metadata": {},
   "outputs": [
    {
     "name": "stdout",
     "output_type": "stream",
     "text": [
      "[('멋쟁이', 'Noun'), ('사자', 'Noun'), ('처럼과', 'Josa'), ('함께', 'Adverb'), ('코딩', 'Noun'), ('을', 'Josa'), ('배우다', 'Verb'), ('보아', 'Noun'), ('요', 'Josa')]\n"
     ]
    }
   ],
   "source": [
    "print(okt.pos(\"멋쟁이사자처럼과 함께 코딩을 배워 보아요\", stem=True))  # 어간추출 적용한 형태소 분석."
   ]
  },
  {
   "cell_type": "markdown",
   "metadata": {},
   "source": [
    "꼬꼬마 형태소 분석기 사용."
   ]
  },
  {
   "cell_type": "code",
   "execution_count": 4,
   "metadata": {},
   "outputs": [
    {
     "name": "stdout",
     "output_type": "stream",
     "text": [
      "['멋쟁이', '사자', '처럼', '과', '함께', '코딩', '을', '배우', '어', '보', '아요']\n"
     ]
    }
   ],
   "source": [
    "from konlpy.tag import Kkma   \n",
    "kkma=Kkma()   \n",
    "print(kkma.morphs(\"멋쟁이사자처럼과 함께 코딩을 배워 보아요\")) "
   ]
  },
  {
   "cell_type": "code",
   "execution_count": 5,
   "metadata": {},
   "outputs": [
    {
     "name": "stdout",
     "output_type": "stream",
     "text": [
      "['멋쟁이', '멋쟁이사자', '사자', '과', '코딩']\n"
     ]
    }
   ],
   "source": [
    "print(kkma.nouns(\"멋쟁이사자처럼과 함께 코딩을 배워 보아요\"))   "
   ]
  },
  {
   "cell_type": "code",
   "execution_count": 6,
   "metadata": {},
   "outputs": [
    {
     "name": "stdout",
     "output_type": "stream",
     "text": [
      "[('멋쟁이', 'NNG'), ('사자', 'NNG'), ('처럼', 'JKM'), ('과', 'NNG'), ('함께', 'MAG'), ('코딩', 'NNG'), ('을', 'JKO'), ('배우', 'VV'), ('어', 'ECS'), ('보', 'VV'), ('아요', 'EFN')]\n"
     ]
    }
   ],
   "source": [
    "print(kkma.pos(\"멋쟁이사자처럼과 함께 코딩을 배워 보아요\"))  "
   ]
  },
  {
   "cell_type": "markdown",
   "metadata": {},
   "source": [
    "#### 2. 한글 철차법 체커: Py-Hanspell."
   ]
  },
  {
   "cell_type": "code",
   "execution_count": 11,
   "metadata": {},
   "outputs": [
    {
     "name": "stdout",
     "output_type": "stream",
     "text": [
      "Collecting git+https://github.com/ssut/py-hanspell.git\n",
      "  Cloning https://github.com/ssut/py-hanspell.git to c:\\users\\pc\\appdata\\local\\temp\\pip-req-build-j13tjrq3\n",
      "Requirement already satisfied: requests in c:\\users\\pc\\anaconda3\\lib\\site-packages (from py-hanspell==1.1) (2.24.0)\n",
      "Requirement already satisfied: urllib3!=1.25.0,!=1.25.1,<1.26,>=1.21.1 in c:\\users\\pc\\anaconda3\\lib\\site-packages (from requests->py-hanspell==1.1) (1.25.11)\n",
      "Requirement already satisfied: certifi>=2017.4.17 in c:\\users\\pc\\anaconda3\\lib\\site-packages (from requests->py-hanspell==1.1) (2020.12.5)\n",
      "Requirement already satisfied: idna<3,>=2.5 in c:\\users\\pc\\anaconda3\\lib\\site-packages (from requests->py-hanspell==1.1) (2.10)\n",
      "Requirement already satisfied: chardet<4,>=3.0.2 in c:\\users\\pc\\anaconda3\\lib\\site-packages (from requests->py-hanspell==1.1) (3.0.4)\n",
      "Building wheels for collected packages: py-hanspell\n",
      "  Building wheel for py-hanspell (setup.py): started\n",
      "  Building wheel for py-hanspell (setup.py): finished with status 'done'\n",
      "  Created wheel for py-hanspell: filename=py_hanspell-1.1-py3-none-any.whl size=4899 sha256=09114508edb41ec762ba716b647c6c3272b89d3b2d758eb70b0fe551dc3be6a9\n",
      "  Stored in directory: C:\\Users\\PC\\AppData\\Local\\Temp\\pip-ephem-wheel-cache-zaxjsn9j\\wheels\\3f\\a5\\73\\e4d2806ae141d274fdddaabf8c0ed79be9357d36bfdc99e4b4\n",
      "Successfully built py-hanspell\n",
      "Installing collected packages: py-hanspell\n",
      "Successfully installed py-hanspell-1.1\n"
     ]
    },
    {
     "name": "stderr",
     "output_type": "stream",
     "text": [
      "  Running command git clone -q https://github.com/ssut/py-hanspell.git 'C:\\Users\\PC\\AppData\\Local\\Temp\\pip-req-build-j13tjrq3'\n"
     ]
    }
   ],
   "source": [
    "# 먼저 git을 설치해 둔다 (https://git-scm.com/)\n",
    "# 다음을 command prompt에서 실행해서 Github에서 가져다 설치할 수 있다.\n",
    "!pip install git+https://github.com/ssut/py-hanspell.git"
   ]
  },
  {
   "cell_type": "code",
   "execution_count": 12,
   "metadata": {},
   "outputs": [],
   "source": [
    "from hanspell import spell_checker"
   ]
  },
  {
   "cell_type": "code",
   "execution_count": 13,
   "metadata": {},
   "outputs": [
    {
     "name": "stdout",
     "output_type": "stream",
     "text": [
      "철자법 틀리면 안 되나? 지금 문장 이상하다.\n"
     ]
    }
   ],
   "source": [
    "my_sentence = \"철자법틀리면않돼나? 지금문장이상하다.\"\n",
    "my_sentence_corrected = spell_checker.check(my_sentence).checked\n",
    "print(my_sentence_corrected)      "
   ]
  },
  {
   "cell_type": "markdown",
   "metadata": {},
   "source": [
    "#### 3. Customized KoNLPy."
   ]
  },
  {
   "cell_type": "code",
   "execution_count": 14,
   "metadata": {
    "scrolled": true
   },
   "outputs": [
    {
     "name": "stdout",
     "output_type": "stream",
     "text": [
      "Collecting customized_konlpy\n",
      "  Downloading customized_konlpy-0.0.64-py3-none-any.whl (881 kB)\n",
      "Requirement already satisfied: Jpype1>=0.6.1 in c:\\users\\pc\\anaconda3\\lib\\site-packages (from customized_konlpy) (1.2.0)\n",
      "Requirement already satisfied: konlpy>=0.4.4 in c:\\users\\pc\\anaconda3\\lib\\site-packages (from customized_konlpy) (0.5.2)\n",
      "Collecting beautifulsoup4==4.6.0\n",
      "  Using cached beautifulsoup4-4.6.0-py3-none-any.whl (86 kB)\n",
      "Requirement already satisfied: colorama in c:\\users\\pc\\anaconda3\\lib\\site-packages (from konlpy>=0.4.4->customized_konlpy) (0.4.4)\n",
      "Requirement already satisfied: lxml>=4.1.0 in c:\\users\\pc\\anaconda3\\lib\\site-packages (from konlpy>=0.4.4->customized_konlpy) (4.6.1)\n",
      "Requirement already satisfied: numpy>=1.6 in c:\\users\\pc\\anaconda3\\lib\\site-packages (from konlpy>=0.4.4->customized_konlpy) (1.19.2)\n",
      "Requirement already satisfied: tweepy>=3.7.0 in c:\\users\\pc\\anaconda3\\lib\\site-packages (from konlpy>=0.4.4->customized_konlpy) (3.10.0)\n",
      "Requirement already satisfied: requests[socks]>=2.11.1 in c:\\users\\pc\\anaconda3\\lib\\site-packages (from tweepy>=3.7.0->konlpy>=0.4.4->customized_konlpy) (2.24.0)\n",
      "Requirement already satisfied: six>=1.10.0 in c:\\users\\pc\\anaconda3\\lib\\site-packages (from tweepy>=3.7.0->konlpy>=0.4.4->customized_konlpy) (1.15.0)\n",
      "Requirement already satisfied: requests-oauthlib>=0.7.0 in c:\\users\\pc\\anaconda3\\lib\\site-packages (from tweepy>=3.7.0->konlpy>=0.4.4->customized_konlpy) (1.3.0)\n",
      "Requirement already satisfied: oauthlib>=3.0.0 in c:\\users\\pc\\anaconda3\\lib\\site-packages (from requests-oauthlib>=0.7.0->tweepy>=3.7.0->konlpy>=0.4.4->customized_konlpy) (3.1.0)\n",
      "Requirement already satisfied: idna<3,>=2.5 in c:\\users\\pc\\anaconda3\\lib\\site-packages (from requests[socks]>=2.11.1->tweepy>=3.7.0->konlpy>=0.4.4->customized_konlpy) (2.10)\n",
      "Requirement already satisfied: certifi>=2017.4.17 in c:\\users\\pc\\anaconda3\\lib\\site-packages (from requests[socks]>=2.11.1->tweepy>=3.7.0->konlpy>=0.4.4->customized_konlpy) (2020.12.5)\n",
      "Requirement already satisfied: urllib3!=1.25.0,!=1.25.1,<1.26,>=1.21.1 in c:\\users\\pc\\anaconda3\\lib\\site-packages (from requests[socks]>=2.11.1->tweepy>=3.7.0->konlpy>=0.4.4->customized_konlpy) (1.25.11)\n",
      "Requirement already satisfied: chardet<4,>=3.0.2 in c:\\users\\pc\\anaconda3\\lib\\site-packages (from requests[socks]>=2.11.1->tweepy>=3.7.0->konlpy>=0.4.4->customized_konlpy) (3.0.4)\n",
      "Requirement already satisfied: PySocks!=1.5.7,>=1.5.6 in c:\\users\\pc\\anaconda3\\lib\\site-packages (from requests[socks]>=2.11.1->tweepy>=3.7.0->konlpy>=0.4.4->customized_konlpy) (1.7.1)\n",
      "Installing collected packages: beautifulsoup4, customized-konlpy\n",
      "  Attempting uninstall: beautifulsoup4\n",
      "    Found existing installation: beautifulsoup4 4.9.3\n",
      "    Uninstalling beautifulsoup4-4.9.3:\n",
      "      Successfully uninstalled beautifulsoup4-4.9.3\n",
      "Successfully installed beautifulsoup4-4.6.0 customized-konlpy-0.0.64\n"
     ]
    }
   ],
   "source": [
    "# 다음과 같이 손쉽게 설치할 수 있다.\n",
    "!pip install customized_konlpy"
   ]
  },
  {
   "cell_type": "code",
   "execution_count": 15,
   "metadata": {},
   "outputs": [
    {
     "name": "stdout",
     "output_type": "stream",
     "text": [
      "['멋쟁이', '사자', '처럼과', '함께', '코딩', '을', '배워', '보아', '요']\n"
     ]
    },
    {
     "name": "stderr",
     "output_type": "stream",
     "text": [
      "C:\\Users\\PC\\anaconda3\\lib\\site-packages\\konlpy\\tag\\_okt.py:16: UserWarning: \"Twitter\" has changed to \"Okt\" since KoNLPy v0.4.5.\n",
      "  warn('\"Twitter\" has changed to \"Okt\" since KoNLPy v0.4.5.')\n"
     ]
    }
   ],
   "source": [
    "from ckonlpy.tag import Twitter        # Okt는 작동하지 않음!\n",
    "my_twitter=Twitter()   \n",
    "print(my_twitter.morphs(\"멋쟁이사자처럼과 함께 코딩을 배워 보아요\")) "
   ]
  },
  {
   "cell_type": "code",
   "execution_count": 17,
   "metadata": {},
   "outputs": [
    {
     "name": "stdout",
     "output_type": "stream",
     "text": [
      "[('멋쟁이', 'Noun'), ('사자', 'Noun'), ('처럼과', 'Josa'), ('함께', 'Adverb'), ('코딩', 'Noun'), ('을', 'Josa'), ('배워', 'Verb'), ('보아', 'Noun'), ('요', 'Josa')]\n"
     ]
    }
   ],
   "source": [
    "print(my_twitter.pos(\"멋쟁이사자처럼과 함께 코딩을 배워 보아요\")) "
   ]
  },
  {
   "cell_type": "code",
   "execution_count": 18,
   "metadata": {},
   "outputs": [],
   "source": [
    "# 단어를 사전에 추가한다.\n",
    "my_twitter.add_dictionary('멋쟁이사자처럼', 'Noun')"
   ]
  },
  {
   "cell_type": "code",
   "execution_count": 19,
   "metadata": {},
   "outputs": [
    {
     "name": "stdout",
     "output_type": "stream",
     "text": [
      "['멋쟁이사자처럼', '과', '함께', '코딩', '을', '배워', '보아', '요']\n"
     ]
    }
   ],
   "source": [
    "# 다시 실행.\n",
    "print(my_twitter.morphs(\"멋쟁이사자처럼과 함께 코딩을 배워 보아요\")) "
   ]
  },
  {
   "cell_type": "code",
   "execution_count": 20,
   "metadata": {},
   "outputs": [
    {
     "name": "stdout",
     "output_type": "stream",
     "text": [
      "[('멋쟁이사자처럼', 'Noun'), ('과', 'Josa'), ('함께', 'Adverb'), ('코딩', 'Noun'), ('을', 'Josa'), ('배워', 'Verb'), ('보아', 'Noun'), ('요', 'Josa')]\n"
     ]
    }
   ],
   "source": [
    "# 다시 실행.\n",
    "print(my_twitter.pos(\"멋쟁이사자처럼과 함께 코딩을 배워 보아요\")) "
   ]
  },
  {
   "cell_type": "code",
   "execution_count": null,
   "metadata": {},
   "outputs": [],
   "source": []
  },
  {
   "cell_type": "code",
   "execution_count": null,
   "metadata": {},
   "outputs": [],
   "source": []
  }
 ],
 "metadata": {
  "kernelspec": {
   "display_name": "Python 3",
   "language": "python",
   "name": "python3"
  },
  "language_info": {
   "codemirror_mode": {
    "name": "ipython",
    "version": 3
   },
   "file_extension": ".py",
   "mimetype": "text/x-python",
   "name": "python",
   "nbconvert_exporter": "python",
   "pygments_lexer": "ipython3",
   "version": "3.8.5"
  }
 },
 "nbformat": 4,
 "nbformat_minor": 4
}
