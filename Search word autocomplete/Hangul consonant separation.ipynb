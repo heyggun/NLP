{
 "cells": [
  {
   "cell_type": "markdown",
   "id": "4cd6d17d",
   "metadata": {},
   "source": [
    "    <한글 기본 구성>\n",
    "    \n",
    "    [1] 자음 (19자)\n",
    "         \n",
    "        - 기본 자음자 : ㄱ,ㄴ,ㄷ,ㄹ,ㅁ,ㅂ,ㅅ,ㅇ,ㅈ,ㅊ,ㅋ,ㅌ,ㅍ,ㅎ (14자)\n",
    "        - 복합 자음자 : ㄲ, ㄸ, ㅃ, ㅆ, ㅉ (5자)\n",
    "        \n",
    "    [2] 모음 (21자)\n",
    "    \n",
    "        - 기본 모음자 : ㅏ, ㅑ, ㅓ, ㅕ, ㅗ, ㅛ, ㅜ, ㅠ, ㅡ, ㅣ (10자)\n",
    "        - 복합 모음자 : ㅐ, ㅒ, ㅔ, ㅖ, ㅘ, ㅙ, ㅚ, ㅝ, ㅟ, ㅢ (11자)\n",
    "       \n",
    "    [3] 받침 (27자)\n",
    "    \n",
    "        - 기본 받침 : ㄱ,ㄴ,ㄷ,ㄹ,ㅁ,ㅂ,ㅅ,ㅇ,ㅈ,ㅊ,ㅋ,ㅌ,ㅍ,ㅎ (14자)\n",
    "        - 곁받침 : ㄳ, ㄵ,ㄶ,ㄺ,ㄻ,ㄼ,ㄽ,ㄾ,ㄿ,ㅀ,ㅄ (11자)\n",
    "        - 쌍받침 : ㄲ, ㅆ (2자)\n",
    "        \n",
    "      "
   ]
  },
  {
   "cell_type": "code",
   "execution_count": 1,
   "id": "dc6cd86c",
   "metadata": {},
   "outputs": [],
   "source": [
    "import numpy as np"
   ]
  },
  {
   "cell_type": "code",
   "execution_count": 5,
   "id": "6a8eb046",
   "metadata": {},
   "outputs": [
    {
     "data": {
      "text/plain": [
       "array(['가', '각', '갂', ..., '힡', '힢', '힣'], dtype='<U1')"
      ]
     },
     "execution_count": 5,
     "metadata": {},
     "output_type": "execute_result"
    }
   ],
   "source": [
    "korean = np.array([chr(code)for code in range(44032, 55204)])\n",
    "korean"
   ]
  },
  {
   "cell_type": "code",
   "execution_count": 6,
   "id": "f129ab14",
   "metadata": {
    "scrolled": true
   },
   "outputs": [
    {
     "data": {
      "text/plain": [
       "array([[['가', '각', '갂', ..., '같', '갚', '갛'],\n",
       "        ['개', '객', '갞', ..., '갵', '갶', '갷'],\n",
       "        ['갸', '갹', '갺', ..., '걑', '걒', '걓'],\n",
       "        ...,\n",
       "        ['그', '극', '귺', ..., '긑', '긒', '긓'],\n",
       "        ['긔', '긕', '긖', ..., '긭', '긮', '긯'],\n",
       "        ['기', '긱', '긲', ..., '깉', '깊', '깋']],\n",
       "\n",
       "       [['까', '깍', '깎', ..., '깥', '깦', '깧'],\n",
       "        ['깨', '깩', '깪', ..., '꺁', '꺂', '꺃'],\n",
       "        ['꺄', '꺅', '꺆', ..., '꺝', '꺞', '꺟'],\n",
       "        ...,\n",
       "        ['끄', '끅', '끆', ..., '끝', '끞', '끟'],\n",
       "        ['끠', '끡', '끢', ..., '끹', '끺', '끻'],\n",
       "        ['끼', '끽', '끾', ..., '낕', '낖', '낗']],\n",
       "\n",
       "       [['나', '낙', '낚', ..., '낱', '낲', '낳'],\n",
       "        ['내', '낵', '낶', ..., '냍', '냎', '냏'],\n",
       "        ['냐', '냑', '냒', ..., '냩', '냪', '냫'],\n",
       "        ...,\n",
       "        ['느', '늑', '늒', ..., '늩', '늪', '늫'],\n",
       "        ['늬', '늭', '늮', ..., '닅', '닆', '닇'],\n",
       "        ['니', '닉', '닊', ..., '닡', '닢', '닣']],\n",
       "\n",
       "       ...,\n",
       "\n",
       "       [['타', '탁', '탂', ..., '탙', '탚', '탛'],\n",
       "        ['태', '택', '탞', ..., '탵', '탶', '탷'],\n",
       "        ['탸', '탹', '탺', ..., '턑', '턒', '턓'],\n",
       "        ...,\n",
       "        ['트', '특', '튺', ..., '틑', '틒', '틓'],\n",
       "        ['틔', '틕', '틖', ..., '틭', '틮', '틯'],\n",
       "        ['티', '틱', '틲', ..., '팉', '팊', '팋']],\n",
       "\n",
       "       [['파', '팍', '팎', ..., '팥', '팦', '팧'],\n",
       "        ['패', '팩', '팪', ..., '퍁', '퍂', '퍃'],\n",
       "        ['퍄', '퍅', '퍆', ..., '퍝', '퍞', '퍟'],\n",
       "        ...,\n",
       "        ['프', '픅', '픆', ..., '픝', '픞', '픟'],\n",
       "        ['픠', '픡', '픢', ..., '픹', '픺', '픻'],\n",
       "        ['피', '픽', '픾', ..., '핕', '핖', '핗']],\n",
       "\n",
       "       [['하', '학', '핚', ..., '핱', '핲', '핳'],\n",
       "        ['해', '핵', '핶', ..., '햍', '햎', '햏'],\n",
       "        ['햐', '햑', '햒', ..., '햩', '햪', '햫'],\n",
       "        ...,\n",
       "        ['흐', '흑', '흒', ..., '흩', '흪', '흫'],\n",
       "        ['희', '흭', '흮', ..., '힅', '힆', '힇'],\n",
       "        ['히', '힉', '힊', ..., '힡', '힢', '힣']]], dtype='<U1')"
      ]
     },
     "execution_count": 6,
     "metadata": {},
     "output_type": "execute_result"
    }
   ],
   "source": [
    "korean.reshape(19,21,28)"
   ]
  },
  {
   "cell_type": "markdown",
   "id": "bb330abd",
   "metadata": {},
   "source": [
    "     [음절의 유니코드 구하는 계산식]\n",
    "     \n",
    "     (초성 인덱스 * 588) + (중성 인덱스 * 28) + 종성인덱스 + 44032\n",
    "     \n",
    "     * 종성(27)에 없음(1) 까지 포함해 28"
   ]
  },
  {
   "cell_type": "code",
   "execution_count": 9,
   "id": "8841b9e0",
   "metadata": {},
   "outputs": [],
   "source": [
    "def get_unicode_number(chosung, jungsung, jongsung):\n",
    "    return (chosung*588) + (jungsung*28) + (jongsung) + 44032"
   ]
  },
  {
   "cell_type": "code",
   "execution_count": 28,
   "id": "8537703d",
   "metadata": {},
   "outputs": [
    {
     "name": "stdout",
     "output_type": "stream",
     "text": [
      "54620\n",
      "한\n"
     ]
    }
   ],
   "source": [
    "# 한글 (ㅎ : 18, ㅏ : 0, ㄴ:5)\n",
    "\n",
    "print(get_unicode_number(18,0,4))\n",
    "print(korean[get_unicode_number(18,0,4)-44032])"
   ]
  },
  {
   "cell_type": "markdown",
   "id": "69972825",
   "metadata": {},
   "source": [
    "    - 초성 인덱스 = (음절의 코드 - 44032) / 588\n",
    "    - 중성 인덱스 = (음절의 코드 - 44032 - (초성 인덱스*588)) / 28\n",
    "    - 종성 인덱스 = (음절의 코드 - 44032 - (초성 인덱스*588) - (중성 인덱스 *28))"
   ]
  },
  {
   "cell_type": "code",
   "execution_count": null,
   "id": "84dfd51e",
   "metadata": {},
   "outputs": [],
   "source": [
    "int(syllable_code-44032-(chosung_index*588)-(jungsung_index*28))"
   ]
  },
  {
   "cell_type": "code",
   "execution_count": null,
   "id": "d9a1f5c8",
   "metadata": {},
   "outputs": [],
   "source": []
  },
  {
   "cell_type": "code",
   "execution_count": 75,
   "id": "9c4075a1",
   "metadata": {},
   "outputs": [],
   "source": [
    "import re"
   ]
  },
  {
   "cell_type": "code",
   "execution_count": 110,
   "id": "75f90574",
   "metadata": {},
   "outputs": [
    {
     "name": "stdout",
     "output_type": "stream",
     "text": [
      "[['ㅎ', 'ㅏ', 'ㄴ'], ['ㄱ', 'ㅡ', 'ㄹ'], [' ', ' ', ' '], ['ㅈ', 'ㅏ', ''], ['ㅁ', 'ㅗ', ''], [' ', ' ', ' '], ['ㅂ', 'ㅜ', 'ㄴ'], ['ㄹ', 'ㅣ', ''], ['ㅎ', 'ㅏ', ''], ['ㄴ', 'ㅡ', 'ㄴ'], [' ', ' ', ' '], ['ㅌ', 'ㅔ', ''], ['ㅅ', 'ㅡ', ''], ['ㅌ', 'ㅡ', ''], [' ', ' ', ' '], ['ㅋ', 'ㅡ', 'ㄹ'], ['ㄹ', 'ㅐ', ''], ['ㅅ', 'ㅡ', ''], [' ', ' ', ' '], ['ㄱ', 'ㅜ', ''], ['ㅎ', 'ㅕ', 'ㄴ'], ['ㅎ', 'ㅏ', ''], ['ㄱ', 'ㅣ', ''], [' ', ' ', ' ']]\n",
      "['ㅎ', 'ㄱ', ' ', 'ㅈ', 'ㅁ', ' ', 'ㅂ', 'ㄹ', 'ㅎ', 'ㄴ', ' ', 'ㅌ', 'ㅅ', 'ㅌ', ' ', 'ㅋ', 'ㄹ', 'ㅅ', ' ', 'ㄱ', 'ㅎ', 'ㅎ', 'ㄱ', ' ']\n",
      "['ㅏ', 'ㅡ', ' ', 'ㅏ', 'ㅗ', ' ', 'ㅜ', 'ㅣ', 'ㅏ', 'ㅡ', ' ', 'ㅔ', 'ㅡ', 'ㅡ', ' ', 'ㅡ', 'ㅐ', 'ㅡ', ' ', 'ㅜ', 'ㅕ', 'ㅏ', 'ㅣ', ' ']\n",
      "['ㄴ', 'ㄹ', ' ', '', '', ' ', 'ㄴ', '', '', 'ㄴ', ' ', '', '', '', ' ', 'ㄹ', '', '', ' ', '', 'ㄴ', '', '', ' ']\n"
     ]
    }
   ],
   "source": [
    "class separtedKorean:\n",
    "    \n",
    "    \"\"\" \n",
    "    target_text = 자모 분리할 문자열\n",
    "    blank_str = 공백 처리 문자\n",
    "    remove_blank = 공백 제거 여부\n",
    "    remove_special_chr = 특수 문자 제거 여부\n",
    "    refine_blank = 두 개 이상의 공백 정제 여부\n",
    "    refine_english = 영어 정제 여부\n",
    "    \"\"\"\n",
    "    \n",
    "    def __init__(self, origin_text, blank_str = ' ', remove_blank=False, remove_special_chr = False,\n",
    "                refine_blank = False, refine_english = False):\n",
    "        \n",
    "        self.BASE = 44032\n",
    "        \n",
    "        self.__chosung_list = ['ㄱ','ㄲ','ㄴ','ㄷ','ㄸ','ㄹ','ㅁ','ㅂ','ㅃ',\n",
    "                               'ㅅ','ㅆ','ㅇ','ㅈ','ㅉ','ㅊ','ㅋ','ㅌ','ㅍ','ㅎ']\n",
    "        self.__jungsung_list = ['ㅏ','ㅐ','ㅑ','ㅒ','ㅓ','ㅔ','ㅕ','ㅖ','ㅗ','ㅘ',\n",
    "                                'ㅙ','ㅚ','ㅛ','ㅜ','ㅝ','ㅞ','ㅟ','ㅠ','ㅡ','ㅢ','ㅣ'] \n",
    "        self.__jongsung_list = ['','ㄱ','ㄲ','ㄳ','ㄴ','ㄵ','ㄶ','ㄷ','ㄹ','ㄺ','ㄻ','ㄼ','ㄽ','ㄾ','ㄿ','ㅀ',\n",
    "                                'ㅁ','ㅂ','ㅄ','ㅅ','ㅆ','ㅇ','ㅈ','ㅊ','ㅋ','ㅌ','ㅍ','ㅎ']\n",
    "        self.__origin_text = origin_text\n",
    "        self.__blank_str = blank_str\n",
    "        self.__remove_blank = remove_blank\n",
    "        self.__remove_special_chr = remove_special_chr\n",
    "        self.__refine_blank = refine_blank\n",
    "        self.__refine_english = refine_english\n",
    "        self.__processed_text = self.__make_processed_text()\n",
    "        self.__jamo_list = self.__make_jamo_list()\n",
    "        \n",
    "    \n",
    "    def __make_processed_text(self):\n",
    "        \n",
    "        \"\"\"\n",
    "        option에 맞게 문자열 정제\n",
    "        \"\"\"\n",
    "        \n",
    "        processed_text = self.__origin_text\n",
    "        if self.__refine_blank:\n",
    "            processed_text = ' '.join([word.strip() for word in processed_text.split(' ') if not len(word.strip())==0])\n",
    "        \n",
    "        if self.__remove_blank:\n",
    "            processed_text = re.sub(r'\\s', '', processed_text)\n",
    "        \n",
    "        if self.__remove_special_chr:\n",
    "            processed_text = re.sub('[-=+,#/\\?:^.@*\\\"※~ㆍ!』‘|\\(\\)\\[\\]`\\'…》\\”\\“\\’·]', '', processed_text)\n",
    "            processed_text = re.sub(r'\\\\ \\S', '', processed_text)\n",
    "        \n",
    "        if self.__refine_english:\n",
    "            processed_text = re.sub(r'[^ㄱ-ㅎ|가-힣]+', '', processed_text)\n",
    "                                    \n",
    "        processed_text = re.sub(r'\\s', self.__blank_str, processed_text)\n",
    "        return processed_text\n",
    "    \n",
    "\n",
    "    def __make_jamo_list(self):\n",
    "        \n",
    "        \"\"\"\n",
    "        전체 자모 리스트 반환\n",
    "        \"\"\"\n",
    "        \n",
    "        jamo_list = []\n",
    "        for syllable in list(self.__processed_text):\n",
    "            if re.match(r'[ㄱ-ㅎ|가-힣]+', syllable):\n",
    "                syllable_code = ord(syllable) - self.BASE\n",
    "                chosung_index = int((syllable_code / 588))\n",
    "                jungsung_index = int((syllable_code-(chosung_index*588))/28)\n",
    "                jongsung_index = int((syllable_code-(chosung_index*588)-(jungsung_index*28)))\n",
    "                \n",
    "                jamo_list.append(\n",
    "                            [self.__chosung_list[chosung_index],\n",
    "                            self.__jungsung_list[jungsung_index],\n",
    "                            self.__jongsung_list[jongsung_index]\n",
    "                            ])\n",
    "            else:\n",
    "                jamo_list.append([syllable, syllable, syllable])\n",
    "\n",
    "        return jamo_list\n",
    "    \n",
    "    def get_full_jamo_list(self):\n",
    "        return self.__jamo_list\n",
    "    \n",
    "    def get_chosung_list(self):\n",
    "        return [jamo_list[0] for jamo_list in self.__jamo_list]\n",
    "    \n",
    "    def get_jungsung_list(self):\n",
    "        return [jamo_list[1] for jamo_list in self.__jamo_list]\n",
    "    \n",
    "    def get_jongsung_list(self):\n",
    "        return [jamo_list[2] for jamo_list in self.__jamo_list]\n",
    "    \n",
    "    \n",
    "if __name__ == \"__main__\":\n",
    "    text = '한글 자모 분리하는 테스트 클래스 구현하기 ^.^'\n",
    "    separated_jamo = separtedKorean(text, remove_special_chr=True)\n",
    "    print(separated_jamo.get_full_jamo_list())\n",
    "    print(separated_jamo.get_chosung_list())\n",
    "    print(separated_jamo.get_jungsung_list())\n",
    "    print(separated_jamo.get_jongsung_list())"
   ]
  },
  {
   "cell_type": "code",
   "execution_count": null,
   "id": "e016ed91",
   "metadata": {},
   "outputs": [],
   "source": []
  },
  {
   "cell_type": "code",
   "execution_count": null,
   "id": "bdeba80e",
   "metadata": {},
   "outputs": [],
   "source": []
  }
 ],
 "metadata": {
  "kernelspec": {
   "display_name": "Python 3 (ipykernel)",
   "language": "python",
   "name": "python3"
  },
  "language_info": {
   "codemirror_mode": {
    "name": "ipython",
    "version": 3
   },
   "file_extension": ".py",
   "mimetype": "text/x-python",
   "name": "python",
   "nbconvert_exporter": "python",
   "pygments_lexer": "ipython3",
   "version": "3.9.12"
  }
 },
 "nbformat": 4,
 "nbformat_minor": 5
}
